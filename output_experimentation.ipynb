{
 "cells": [
  {
   "cell_type": "markdown",
   "metadata": {},
   "source": [
    "# Experimenting with and getting summary data using the model metrics\n",
    "\n",
    "Using the pandas dataframe that combines all model outputs, find and compare RMSEs and other metrics"
   ]
  },
  {
   "cell_type": "code",
   "execution_count": 1,
   "metadata": {},
   "outputs": [],
   "source": [
    "import pandas as pd\n",
    "import numpy as np\n",
    "import matplotlib.pyplot as plt\n",
    "from interpret_outputs import loadDataframe"
   ]
  },
  {
   "cell_type": "code",
   "execution_count": 2,
   "metadata": {},
   "outputs": [],
   "source": [
    "df = loadDataframe('outputs_df.csv')"
   ]
  },
  {
   "cell_type": "code",
   "execution_count": 3,
   "metadata": {},
   "outputs": [
    {
     "name": "stdout",
     "output_type": "stream",
     "text": [
      "model\n",
      "ar      13.224973\n",
      "arx     12.424407\n",
      "base    18.181787\n",
      "elm     14.939054\n",
      "ffnn    10.648215\n",
      "gp       9.274077\n",
      "lstm    10.293267\n",
      "poly    40.137559\n",
      "svr      9.882778\n",
      "dtype: float64\n"
     ]
    },
    {
     "data": {
      "text/plain": [
       "' \\nDE BOIS RESULTS:\\nRef     22.31 (3.39)\\nPoly    42.94 (15.40)\\nAR      13.08 (1.13)\\nARX     11.78 (0.87) \\nSVR     9.05 (0.51)\\nGP      9.00 (0.54)\\nELM     13.39 (2.53)\\nFFNN    10.37 (0.73)\\nLSTM    10.14 (0.78)\\n'"
      ]
     },
     "execution_count": 3,
     "metadata": {},
     "output_type": "execute_result"
    }
   ],
   "source": [
    "# the average RMSE at a ph of 30 for each model across all runs on t1dms patients\n",
    "# successfully recreates the top-most data of table 1 in De Bois paper!\n",
    "\n",
    "df_filtered = df.xs(30, level='ph')\n",
    "df_filtered = df_filtered.xs('t1dms', level='population')\n",
    "df_filtered = df_filtered.xs('RMSE', level='metric')\n",
    "df_filtered = df_filtered.xs('mean', level='calculation')\n",
    "\n",
    "# calculate the average for each model\n",
    "averages = df_filtered.groupby(level='model').mean()\n",
    "\n",
    "print(averages)\n",
    "\n",
    "''' \n",
    "DE BOIS RESULTS:\n",
    "Ref     22.31 (3.39)\n",
    "Poly    42.94 (15.40)\n",
    "AR      13.08 (1.13)\n",
    "ARX     11.78 (0.87) \n",
    "SVR     9.05 (0.51)\n",
    "GP      9.00 (0.54)\n",
    "ELM     13.39 (2.53)\n",
    "FFNN    10.37 (0.73)\n",
    "LSTM    10.14 (0.78)\n",
    "'''"
   ]
  },
  {
   "cell_type": "code",
   "execution_count": null,
   "metadata": {},
   "outputs": [],
   "source": []
  }
 ],
 "metadata": {
  "kernelspec": {
   "display_name": "glyfe",
   "language": "python",
   "name": "python3"
  },
  "language_info": {
   "codemirror_mode": {
    "name": "ipython",
    "version": 3
   },
   "file_extension": ".py",
   "mimetype": "text/x-python",
   "name": "python",
   "nbconvert_exporter": "python",
   "pygments_lexer": "ipython3",
   "version": "3.11.5"
  }
 },
 "nbformat": 4,
 "nbformat_minor": 2
}
