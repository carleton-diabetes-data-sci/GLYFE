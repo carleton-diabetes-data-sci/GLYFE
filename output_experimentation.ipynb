{
 "cells": [
  {
   "cell_type": "markdown",
   "metadata": {},
   "source": [
    "# Experimenting with and getting summary data using the model metrics\n",
    "\n",
    "Using the pandas dataframe that combines all model outputs, find and compare RMSEs and other metrics"
   ]
  },
  {
   "cell_type": "code",
   "execution_count": null,
   "metadata": {},
   "outputs": [],
   "source": [
    "import pandas as pd\n",
    "import numpy as np\n",
    "import matplotlib.pyplot as plt\n",
    "from interpret_outputs import import_df"
   ]
  },
  {
   "cell_type": "code",
   "execution_count": null,
   "metadata": {},
   "outputs": [],
   "source": [
    "df = import_df('outputs_df.csv')"
   ]
  },
  {
   "cell_type": "code",
   "execution_count": null,
   "metadata": {},
   "outputs": [],
   "source": [
    "# the average RMSE at a ph of 30 for each model across all runs on t1dms patients\n",
    "# successfully recreates the top-most data of table 1 in De Bois paper!\n",
    "\n",
    "df_filtered = df.xs(30, level='ph')\n",
    "df_filtered = df_filtered.xs('t1dms', level='population')\n",
    "df_filtered = df_filtered.xs('RMSE', level='metric')\n",
    "df_filtered = df_filtered.xs('mean', level='calculation')\n",
    "\n",
    "# calculate the average for each model\n",
    "averages = df_filtered.groupby(level='model').mean()\n",
    "\n",
    "print(averages)\n",
    "\n",
    "''' \n",
    "DE BOIS RESULTS:\n",
    "Ref     22.31 (3.39)\n",
    "Poly    42.94 (15.40)\n",
    "AR      13.08 (1.13)\n",
    "ARX     11.78 (0.87) \n",
    "SVR     9.05 (0.51)\n",
    "GP      9.00 (0.54)\n",
    "ELM     13.39 (2.53)\n",
    "FFNN    10.37 (0.73)\n",
    "LSTM    10.14 (0.78)\n",
    "'''"
   ]
  },
  {
   "cell_type": "code",
   "execution_count": null,
   "metadata": {},
   "outputs": [],
   "source": []
  }
 ],
 "metadata": {
  "kernelspec": {
   "display_name": "glyfe",
   "language": "python",
   "name": "python3"
  },
  "language_info": {
   "codemirror_mode": {
    "name": "ipython",
    "version": 3
   },
   "file_extension": ".py",
   "mimetype": "text/x-python",
   "name": "python",
   "nbconvert_exporter": "python",
   "pygments_lexer": "ipython3"
  }
 },
 "nbformat": 4,
 "nbformat_minor": 2
}
