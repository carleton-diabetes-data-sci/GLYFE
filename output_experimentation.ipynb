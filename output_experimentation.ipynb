{
 "cells": [
  {
   "cell_type": "markdown",
   "metadata": {},
   "source": [
    "# Experimenting with and getting summary statistics using the model metrics\n",
    "\n",
    "Using the pandas dataframe that combines all model outputs, find and compare RMSEs and other metrics"
   ]
  },
  {
   "cell_type": "code",
   "execution_count": null,
   "metadata": {},
   "outputs": [],
   "source": [
    "import pandas as pd\n",
    "import numpy as np\n",
    "import matplotlib.pyplot as plt\n",
    "from interpret_outputs import loadDataframe"
   ]
  },
  {
   "cell_type": "code",
   "execution_count": null,
   "metadata": {},
   "outputs": [],
   "source": [
    "df = loadDataframe('sap100_6ws_outputs.csv')"
   ]
  },
  {
   "cell_type": "code",
   "execution_count": null,
   "metadata": {},
   "outputs": [],
   "source": [
    "df = df.drop('all_sap100', level='experiment')\n",
    "df_rmse = df.xs('RMSE', level='metric')\n",
    "grouped = df_rmse.groupby(['experiment', 'ph', 'model'])"
   ]
  },
  {
   "cell_type": "code",
   "execution_count": null,
   "metadata": {},
   "outputs": [],
   "source": [
    "def rmseForModel(df, model):\n",
    "    new_df = df.xs(model, level='model')\n",
    "    grouped = new_df.groupby(['experiment', 'ph'])\n",
    "    print('\\n\\nMean RMSEs for ' + model)\n",
    "    print('---------------------')\n",
    "    print(grouped['mean'].mean())\n",
    "    return grouped['mean'].mean()"
   ]
  },
  {
   "cell_type": "code",
   "execution_count": null,
   "metadata": {},
   "outputs": [],
   "source": [
    "model_names = list(df_rmse.index.levels[1])\n",
    "avg_rmse_per_model = {}\n",
    "\n",
    "for model in model_names: \n",
    "    # Done in a loop per-model so that it appears nicely in the jupyter notebook\n",
    "    avg_rmse_per_model[model] = rmseForModel(df_rmse, model) \n"
   ]
  },
  {
   "cell_type": "markdown",
   "metadata": {},
   "source": [
    "## Plotting"
   ]
  },
  {
   "cell_type": "code",
   "execution_count": null,
   "metadata": {},
   "outputs": [],
   "source": [
    "# 3x3 set of plots where each plot is a model, and there are a cluster of 3 bars for each experiment per ph\n",
    "fig, axs = plt.subplots(3, 3, figsize=(15, 15))\n",
    "fig.suptitle('RMSE for each model per experiment and prediction horizon')\n",
    "\n",
    "for i, model in enumerate(model_names):\n",
    "    avg_rmses = avg_rmse_per_model[model].unstack(level=0)\n",
    "    avg_rmses.plot(kind='bar', ax=axs[i//3, i%3], title=model, legend=True)\n",
    "    axs[i//3, i%3].set_ylim(0, 60)\n",
    "    # label the y-axis only on the left-most column\n",
    "    if i % 3 == 0:\n",
    "        axs[i//3, i%3].set_ylabel('average RMSE')\n",
    "    \n",
    "\n",
    "fig.tight_layout()\n"
   ]
  }
 ],
 "metadata": {
  "kernelspec": {
   "display_name": "glyfe",
   "language": "python",
   "name": "python3"
  },
  "language_info": {
   "codemirror_mode": {
    "name": "ipython",
    "version": 3
   },
   "file_extension": ".py",
   "mimetype": "text/x-python",
   "name": "python",
   "nbconvert_exporter": "python",
   "pygments_lexer": "ipython3",
   "version": "3.11.5"
  }
 },
 "nbformat": 4,
 "nbformat_minor": 2
}
