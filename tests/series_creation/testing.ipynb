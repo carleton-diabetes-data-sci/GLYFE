{
 "cells": [
  {
   "cell_type": "code",
   "execution_count": 3,
   "metadata": {},
   "outputs": [],
   "source": [
    "import pandas as pd\n",
    "import ast\n",
    "import os\n",
    "import argparse\n",
    "import numpy as np\n",
    "import matplotlib.pyplot as plt"
   ]
  },
  {
   "cell_type": "code",
   "execution_count": 4,
   "metadata": {},
   "outputs": [],
   "source": [
    "csv_name = 'csv_files/outputs_df.csv'\n",
    "\n",
    "num_cols = len(pd.read_csv(csv_name).columns) # Get the total number of columns\n",
    "s = pd.read_csv(csv_name, index_col=list(range(num_cols - 1)))\n",
    "s = s.squeeze()\n",
    "s.name = None"
   ]
  },
  {
   "cell_type": "code",
   "execution_count": 5,
   "metadata": {},
   "outputs": [
    {
     "data": {
      "text/plain": [
       "model  experiment  ph  population  patient  metric           calculation\n",
       "ar     DEC_8_2023  30  ohio        559      CG_EGA_AP        mean           0.843165\n",
       "                                                             std            0.003263\n",
       "                                            CG_EGA_AP_eu     mean           0.888540\n",
       "                                                             std            0.004496\n",
       "                                            CG_EGA_AP_hyper  mean           0.796885\n",
       "dtype: float64"
      ]
     },
     "execution_count": 5,
     "metadata": {},
     "output_type": "execute_result"
    }
   ],
   "source": [
    "s.head()"
   ]
  },
  {
   "cell_type": "code",
   "execution_count": null,
   "metadata": {},
   "outputs": [],
   "source": []
  }
 ],
 "metadata": {
  "kernelspec": {
   "display_name": "glyfe2",
   "language": "python",
   "name": "python3"
  },
  "language_info": {
   "codemirror_mode": {
    "name": "ipython",
    "version": 3
   },
   "file_extension": ".py",
   "mimetype": "text/x-python",
   "name": "python",
   "nbconvert_exporter": "python",
   "pygments_lexer": "ipython3",
   "version": "3.11.5"
  }
 },
 "nbformat": 4,
 "nbformat_minor": 2
}
