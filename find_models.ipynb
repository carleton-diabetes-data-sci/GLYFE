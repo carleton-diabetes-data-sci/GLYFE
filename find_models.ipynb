{
 "cells": [
  {
   "cell_type": "code",
   "execution_count": 1,
   "metadata": {},
   "outputs": [],
   "source": [
    "from postprocessing.results import ResultsSubject\n",
    "import pandas as pd\n",
    "import os\n",
    "import numpy as np\n",
    "from postprocessing.metrics import *\n",
    "import misc.datasets\n",
    "import misc.constants as cs\n",
    "from pathlib import Path\n",
    "import misc.datasets\n",
    "from misc.utils import print_latex\n",
    "from abc import ABC, abstractmethod"
   ]
  },
  {
   "cell_type": "code",
   "execution_count": 9,
   "metadata": {},
   "outputs": [],
   "source": [
    "test_model = ResultsSubject('elm', 'NOV_3_2023', 30, 'ohio', '559')\n",
    "\n",
    "params = test_model.params\n",
    "results = test_model.results"
   ]
  },
  {
   "cell_type": "code",
   "execution_count": 10,
   "metadata": {},
   "outputs": [
    {
     "data": {
      "text/plain": [
       "{'hist': 180, 'neurons': 18816.0, 'l2': 316.22776601683796}"
      ]
     },
     "execution_count": 10,
     "metadata": {},
     "output_type": "execute_result"
    }
   ],
   "source": [
    "params"
   ]
  },
  {
   "cell_type": "code",
   "execution_count": 14,
   "metadata": {},
   "outputs": [
    {
     "data": {
      "text/plain": [
       "5"
      ]
     },
     "execution_count": 14,
     "metadata": {},
     "output_type": "execute_result"
    }
   ],
   "source": [
    "len(results)"
   ]
  },
  {
   "cell_type": "code",
   "execution_count": 16,
   "metadata": {},
   "outputs": [
    {
     "data": {
      "text/html": [
       "<div>\n",
       "<style scoped>\n",
       "    .dataframe tbody tr th:only-of-type {\n",
       "        vertical-align: middle;\n",
       "    }\n",
       "\n",
       "    .dataframe tbody tr th {\n",
       "        vertical-align: top;\n",
       "    }\n",
       "\n",
       "    .dataframe thead th {\n",
       "        text-align: right;\n",
       "    }\n",
       "</style>\n",
       "<table border=\"1\" class=\"dataframe\">\n",
       "  <thead>\n",
       "    <tr style=\"text-align: right;\">\n",
       "      <th></th>\n",
       "      <th>y_true</th>\n",
       "      <th>y_pred</th>\n",
       "    </tr>\n",
       "    <tr>\n",
       "      <th>datetime</th>\n",
       "      <th></th>\n",
       "      <th></th>\n",
       "    </tr>\n",
       "  </thead>\n",
       "  <tbody>\n",
       "    <tr>\n",
       "      <th>2022-01-18 00:00:00</th>\n",
       "      <td>179.0</td>\n",
       "      <td>169.441422</td>\n",
       "    </tr>\n",
       "    <tr>\n",
       "      <th>2022-01-18 00:05:00</th>\n",
       "      <td>183.0</td>\n",
       "      <td>175.839508</td>\n",
       "    </tr>\n",
       "    <tr>\n",
       "      <th>2022-01-18 00:10:00</th>\n",
       "      <td>187.0</td>\n",
       "      <td>180.479538</td>\n",
       "    </tr>\n",
       "    <tr>\n",
       "      <th>2022-01-18 00:15:00</th>\n",
       "      <td>191.0</td>\n",
       "      <td>187.085632</td>\n",
       "    </tr>\n",
       "    <tr>\n",
       "      <th>2022-01-18 00:20:00</th>\n",
       "      <td>195.0</td>\n",
       "      <td>192.214294</td>\n",
       "    </tr>\n",
       "    <tr>\n",
       "      <th>...</th>\n",
       "      <td>...</td>\n",
       "      <td>...</td>\n",
       "    </tr>\n",
       "    <tr>\n",
       "      <th>2022-01-27 23:15:00</th>\n",
       "      <td>185.0</td>\n",
       "      <td>152.799591</td>\n",
       "    </tr>\n",
       "    <tr>\n",
       "      <th>2022-01-27 23:20:00</th>\n",
       "      <td>183.0</td>\n",
       "      <td>141.641174</td>\n",
       "    </tr>\n",
       "    <tr>\n",
       "      <th>2022-01-27 23:25:00</th>\n",
       "      <td>182.0</td>\n",
       "      <td>163.463516</td>\n",
       "    </tr>\n",
       "    <tr>\n",
       "      <th>2022-01-27 23:30:00</th>\n",
       "      <td>180.0</td>\n",
       "      <td>150.875443</td>\n",
       "    </tr>\n",
       "    <tr>\n",
       "      <th>2022-01-27 23:35:00</th>\n",
       "      <td>177.0</td>\n",
       "      <td>159.351837</td>\n",
       "    </tr>\n",
       "  </tbody>\n",
       "</table>\n",
       "<p>2876 rows × 2 columns</p>\n",
       "</div>"
      ],
      "text/plain": [
       "                     y_true      y_pred\n",
       "datetime                               \n",
       "2022-01-18 00:00:00   179.0  169.441422\n",
       "2022-01-18 00:05:00   183.0  175.839508\n",
       "2022-01-18 00:10:00   187.0  180.479538\n",
       "2022-01-18 00:15:00   191.0  187.085632\n",
       "2022-01-18 00:20:00   195.0  192.214294\n",
       "...                     ...         ...\n",
       "2022-01-27 23:15:00   185.0  152.799591\n",
       "2022-01-27 23:20:00   183.0  141.641174\n",
       "2022-01-27 23:25:00   182.0  163.463516\n",
       "2022-01-27 23:30:00   180.0  150.875443\n",
       "2022-01-27 23:35:00   177.0  159.351837\n",
       "\n",
       "[2876 rows x 2 columns]"
      ]
     },
     "execution_count": 16,
     "metadata": {},
     "output_type": "execute_result"
    }
   ],
   "source": [
    "results[0]"
   ]
  },
  {
   "cell_type": "code",
   "execution_count": 17,
   "metadata": {},
   "outputs": [
    {
     "data": {
      "text/html": [
       "<div>\n",
       "<style scoped>\n",
       "    .dataframe tbody tr th:only-of-type {\n",
       "        vertical-align: middle;\n",
       "    }\n",
       "\n",
       "    .dataframe tbody tr th {\n",
       "        vertical-align: top;\n",
       "    }\n",
       "\n",
       "    .dataframe thead th {\n",
       "        text-align: right;\n",
       "    }\n",
       "</style>\n",
       "<table border=\"1\" class=\"dataframe\">\n",
       "  <thead>\n",
       "    <tr style=\"text-align: right;\">\n",
       "      <th></th>\n",
       "      <th>y_true</th>\n",
       "      <th>y_pred</th>\n",
       "    </tr>\n",
       "    <tr>\n",
       "      <th>datetime</th>\n",
       "      <th></th>\n",
       "      <th></th>\n",
       "    </tr>\n",
       "  </thead>\n",
       "  <tbody>\n",
       "    <tr>\n",
       "      <th>2022-01-18 00:00:00</th>\n",
       "      <td>179.0</td>\n",
       "      <td>165.581787</td>\n",
       "    </tr>\n",
       "    <tr>\n",
       "      <th>2022-01-18 00:05:00</th>\n",
       "      <td>183.0</td>\n",
       "      <td>172.459702</td>\n",
       "    </tr>\n",
       "    <tr>\n",
       "      <th>2022-01-18 00:10:00</th>\n",
       "      <td>187.0</td>\n",
       "      <td>176.418045</td>\n",
       "    </tr>\n",
       "    <tr>\n",
       "      <th>2022-01-18 00:15:00</th>\n",
       "      <td>191.0</td>\n",
       "      <td>182.579208</td>\n",
       "    </tr>\n",
       "    <tr>\n",
       "      <th>2022-01-18 00:20:00</th>\n",
       "      <td>195.0</td>\n",
       "      <td>187.198883</td>\n",
       "    </tr>\n",
       "    <tr>\n",
       "      <th>...</th>\n",
       "      <td>...</td>\n",
       "      <td>...</td>\n",
       "    </tr>\n",
       "    <tr>\n",
       "      <th>2022-01-27 23:15:00</th>\n",
       "      <td>185.0</td>\n",
       "      <td>137.092270</td>\n",
       "    </tr>\n",
       "    <tr>\n",
       "      <th>2022-01-27 23:20:00</th>\n",
       "      <td>183.0</td>\n",
       "      <td>118.394485</td>\n",
       "    </tr>\n",
       "    <tr>\n",
       "      <th>2022-01-27 23:25:00</th>\n",
       "      <td>182.0</td>\n",
       "      <td>126.711342</td>\n",
       "    </tr>\n",
       "    <tr>\n",
       "      <th>2022-01-27 23:30:00</th>\n",
       "      <td>180.0</td>\n",
       "      <td>104.668541</td>\n",
       "    </tr>\n",
       "    <tr>\n",
       "      <th>2022-01-27 23:35:00</th>\n",
       "      <td>177.0</td>\n",
       "      <td>121.898735</td>\n",
       "    </tr>\n",
       "  </tbody>\n",
       "</table>\n",
       "<p>2876 rows × 2 columns</p>\n",
       "</div>"
      ],
      "text/plain": [
       "                     y_true      y_pred\n",
       "datetime                               \n",
       "2022-01-18 00:00:00   179.0  165.581787\n",
       "2022-01-18 00:05:00   183.0  172.459702\n",
       "2022-01-18 00:10:00   187.0  176.418045\n",
       "2022-01-18 00:15:00   191.0  182.579208\n",
       "2022-01-18 00:20:00   195.0  187.198883\n",
       "...                     ...         ...\n",
       "2022-01-27 23:15:00   185.0  137.092270\n",
       "2022-01-27 23:20:00   183.0  118.394485\n",
       "2022-01-27 23:25:00   182.0  126.711342\n",
       "2022-01-27 23:30:00   180.0  104.668541\n",
       "2022-01-27 23:35:00   177.0  121.898735\n",
       "\n",
       "[2876 rows x 2 columns]"
      ]
     },
     "execution_count": 17,
     "metadata": {},
     "output_type": "execute_result"
    }
   ],
   "source": [
    "results[1]"
   ]
  },
  {
   "cell_type": "code",
   "execution_count": null,
   "metadata": {},
   "outputs": [],
   "source": []
  }
 ],
 "metadata": {
  "kernelspec": {
   "display_name": "glyfe2",
   "language": "python",
   "name": "python3"
  },
  "language_info": {
   "codemirror_mode": {
    "name": "ipython",
    "version": 3
   },
   "file_extension": ".py",
   "mimetype": "text/x-python",
   "name": "python",
   "nbconvert_exporter": "python",
   "pygments_lexer": "ipython3",
   "version": "3.11.5"
  }
 },
 "nbformat": 4,
 "nbformat_minor": 2
}
